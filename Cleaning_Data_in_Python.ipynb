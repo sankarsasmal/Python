{
 "cells": [
  {
   "attachments": {
    "Heading1.jpg": {
     "image/jpeg": "[encoded data removed]"
    }
   },
   "cell_type": "markdown",
   "metadata": {},
   "source": [
    "![Heading1.jpg](attachment:Heading1.jpg)"
   ]
  },
  {
   "cell_type": "markdown",
   "metadata": {},
   "source": [
    "**<span style=\"font-family:Lato color:black ; font-size:large\">INTRODUCTION :</span>**  \n",
    "***\n",
    " <p style=\"text-align: justify;font-family:Lato;color:#808080;font-size:medium\">A vital component of data science involves acquiring raw data and getting it into a form ready for analysis. It is commonly said that data scientists spend 80% of their time cleaning and manipulating data, and only 20% of their time actually analyzing it. This course will equip you with all the skills you need to clean your data in Python, from learning how to diagnose problems in your data, to dealing with missing values and outliers. At the end of the course, you'll apply all of the techniques you've learned to a case study to clean a real-world <code style=\"background-color:#F9D500;color:black\">Gapminder</code> dataset.</p>  \n"
   ]
  },
  {
   "cell_type": "markdown",
   "metadata": {},
   "source": [
    "<div class=\"alert alert-block alert-success\";style =\"font-family:Lato;font-size:large; color:#085E5C\">\n",
    "<b>1.Exploring your data</b> </div>  \n",
    "<p style=\"text-align: justify;font-family:Lato;color:#808080;font-size:medium\">Say you've just gotten your hands on a brand new dataset and are itching to start exploring it. But where do you begin, and how can you be sure your dataset is clean? This chapter will introduce you to data cleaning in Python. You'll learn how to explore your data with an eye for diagnosing issues such as outliers, missing values, and duplicate rows.</p>"
   ]
  },
  {
   "cell_type": "markdown",
   "metadata": {},
   "source": [
    "### <span style=\" font-family:Lato;color:#6A9E9D\">Diagnose data for cleaning </span>\n",
    "-----------\n",
    "### <span style=\" font-family:Lato;color:black\">Cleaning data</span>\n",
    "<ul>\n",
    "    <li style=\"text-align: justify;font-family:Lato;color:#808080;font-size:medium\">Prepare data for analysis</li>\n",
    "    <li style=\"text-align: justify;font-family:Lato;color:#808080;font-size:medium\">Data almost never comes in clean</li>\n",
    "    <li style=\"text-align: justify;font-family:Lato;color:#808080;font-size:medium\">Diagnose your data for problems</li>\n",
    " </ul> \n",
    " \n",
    "### <span style=\" font-family:Lato;color:black\">Common data problems</span>\n",
    "<ul>\n",
    "    <li style=\"text-align: justify;font-family:Lato;color:#808080;font-size:medium\">Inconsistent column names</li>\n",
    "    <li style=\"text-align: justify;font-family:Lato;color:#808080;font-size:medium\">Missing data</li>\n",
    "    <li style=\"text-align: justify;font-family:Lato;color:#808080;font-size:medium\">Outliers</li>\n",
    "    <li style=\"text-align: justify;font-family:Lato;color:#808080;font-size:medium\">Duplicate rows</li>\n",
    "    <li style=\"text-align: justify;font-family:Lato;color:#808080;font-size:medium\">Untidys</li>\n",
    "    <li style=\"text-align: justify;font-family:Lato;color:#808080;font-size:medium\">Need to process columns</li>\n",
    "    <li style=\"text-align: justify;font-family:Lato;color:#808080;font-size:medium\">Column types can signal unexpected data values</li>\n",
    "    \n",
    " </ul>\n",
    " "
   ]
  },
  {
   "cell_type": "markdown",
   "metadata": {},
   "source": [
    "||Continent|Country|female literacy|fertility|population|  \n",
    "|-----|-----|-----|-----|-----|-----|\n",
    "|0|ASI|China|90.5|1.769|1.324655e+09|\n",
    "|1|ASI|Inde|50.8|2.682|1.139965e+09|\n",
    "|2|NAM|USA|99.0|2.077|3.040600e+08|\n",
    "|3|ASI|Indonésie|88.8|2.132|2.273451e+08|\n",
    "|4|LAT|Brésil|90.2|1.827|NAN|  \n",
    "\n",
    "Source:<a href=\"www.eea.europa.eu/data\" title=\"data\">www.eea.europa.eu</a>  \n",
    "<ul>\n",
    "    <li style=\"text-align: justify;font-family:Lato;color:#808080;font-size:medium\">Space between two words (female literacy)</li>\n",
    "    <li style=\"text-align: justify;font-family:Lato;color:#808080;font-size:medium\">Column name inconsistencies(capital letter      vs small)</li>\n",
    "    <li style=\"text-align: justify;font-family:Lato;color:#808080;font-size:medium\">Missing data(NA)</li>\n",
    "    <li style=\"text-align: justify;font-family:Lato;color:#808080;font-size:medium\">Country names are in French</li>\n",
    "</ul>\n",
    "\n",
    "### <span style=\" font-family:Lato;color:black\">Load your data</span>"
   ]
  },
  {
   "attachments": {},
   "cell_type": "markdown",
   "metadata": {},
   "source": [
    "<p style=\"text-align: justify;color:black;font-family:Roboto Mono;font-size:small\"> <span style=\"color:green;font-weight:bold; font-family:Roboto Mono\">import</span> pandas \n",
    "<span style=\"color:green;font-family:Roboto Mono;font-weight:bold; white-space: pre-line\">as</span> pd </p>  \n",
    "<p style=\"text-align: justify;color:black;font-family:Roboto Mono;font-size:small\"> df = pd.read_csv(<span style=\"color:red;font-weight:normal font-family:Roboto Mono\">'literary_birth_rate.csv'</span>) </p>  "
   ]
  },
  {
   "cell_type": "code",
   "execution_count": 10,
   "metadata": {},
   "outputs": [],
   "source": [
    "import pandas as pd\n",
    "# since it's not in jupyter notebook running directory\n",
    "# encoding='latin-1' use to address error for latin character in the data sheet\n",
    "df = pd.read_csv(r'C:\\Users\\sankar.sasmal\\Desktop\\python\\Cleaning Data\\Cleaning Data in Python\\literary_birth_rate.csv',\\\n",
    "                 encoding='latin-1')"
   ]
  },
  {
   "cell_type": "markdown",
   "metadata": {},
   "source": [
    "### <span style=\" font-family:Lato;color:black\">Visually inspect</span>"
   ]
  },
  {
   "cell_type": "code",
   "execution_count": 11,
   "metadata": {},
   "outputs": [
    {
     "data": {
      "text/html": [
       "<div>\n",
       "<style scoped>\n",
       "    .dataframe tbody tr th:only-of-type {\n",
       "        vertical-align: middle;\n",
       "    }\n",
       "\n",
       "    .dataframe tbody tr th {\n",
       "        vertical-align: top;\n",
       "    }\n",
       "\n",
       "    .dataframe thead th {\n",
       "        text-align: right;\n",
       "    }\n",
       "</style>\n",
       "<table border=\"1\" class=\"dataframe\">\n",
       "  <thead>\n",
       "    <tr style=\"text-align: right;\">\n",
       "      <th></th>\n",
       "      <th>Unnamed: 0</th>\n",
       "      <th>Continent</th>\n",
       "      <th>Country</th>\n",
       "      <th>female literacy</th>\n",
       "      <th>fertility</th>\n",
       "      <th>population</th>\n",
       "    </tr>\n",
       "  </thead>\n",
       "  <tbody>\n",
       "    <tr>\n",
       "      <th>0</th>\n",
       "      <td>0</td>\n",
       "      <td>ASI</td>\n",
       "      <td>Chine</td>\n",
       "      <td>90.5</td>\n",
       "      <td>1.769</td>\n",
       "      <td>1.32E+09</td>\n",
       "    </tr>\n",
       "    <tr>\n",
       "      <th>1</th>\n",
       "      <td>1</td>\n",
       "      <td>ASI</td>\n",
       "      <td>Inde</td>\n",
       "      <td>50.8</td>\n",
       "      <td>2.682</td>\n",
       "      <td>1.14E+09</td>\n",
       "    </tr>\n",
       "    <tr>\n",
       "      <th>2</th>\n",
       "      <td>2</td>\n",
       "      <td>NAM</td>\n",
       "      <td>USA</td>\n",
       "      <td>99.0</td>\n",
       "      <td>2.077</td>\n",
       "      <td>3.04E+08</td>\n",
       "    </tr>\n",
       "    <tr>\n",
       "      <th>3</th>\n",
       "      <td>3</td>\n",
       "      <td>ASI</td>\n",
       "      <td>Indonésie</td>\n",
       "      <td>88.8</td>\n",
       "      <td>2.132</td>\n",
       "      <td>2.27E+08</td>\n",
       "    </tr>\n",
       "    <tr>\n",
       "      <th>4</th>\n",
       "      <td>4</td>\n",
       "      <td>LAT</td>\n",
       "      <td>Brésil</td>\n",
       "      <td>90.2</td>\n",
       "      <td>1.827</td>\n",
       "      <td>NaN</td>\n",
       "    </tr>\n",
       "  </tbody>\n",
       "</table>\n",
       "</div>"
      ],
      "text/plain": [
       "   Unnamed: 0 Continent     Country   female literacy  fertility  population \n",
       "0           0       ASI       Chine              90.5       1.769    1.32E+09\n",
       "1           1       ASI        Inde              50.8       2.682    1.14E+09\n",
       "2           2       NAM         USA              99.0       2.077    3.04E+08\n",
       "3           3       ASI   Indonésie              88.8       2.132    2.27E+08\n",
       "4           4       LAT      Brésil              90.2       1.827        NaN "
      ]
     },
     "execution_count": 11,
     "metadata": {},
     "output_type": "execute_result"
    }
   ],
   "source": [
    "df.head()"
   ]
  },
  {
   "cell_type": "code",
   "execution_count": 12,
   "metadata": {},
   "outputs": [
    {
     "data": {
      "text/plain": [
       "Index(['Unnamed: 0', 'Continent ', 'Country ', 'female literacy', 'fertility ',\n",
       "       'population '],\n",
       "      dtype='object')"
      ]
     },
     "execution_count": 12,
     "metadata": {},
     "output_type": "execute_result"
    }
   ],
   "source": [
    "# getting columns name\n",
    "df.columns"
   ]
  },
  {
   "cell_type": "code",
   "execution_count": 14,
   "metadata": {},
   "outputs": [
    {
     "data": {
      "text/plain": [
       "(5, 6)"
      ]
     },
     "execution_count": 14,
     "metadata": {},
     "output_type": "execute_result"
    }
   ],
   "source": [
    "# number of rows & columns\n",
    "df.shape"
   ]
  },
  {
   "cell_type": "code",
   "execution_count": 13,
   "metadata": {},
   "outputs": [
    {
     "name": "stdout",
     "output_type": "stream",
     "text": [
      "<class 'pandas.core.frame.DataFrame'>\n",
      "RangeIndex: 5 entries, 0 to 4\n",
      "Data columns (total 6 columns):\n",
      " #   Column           Non-Null Count  Dtype  \n",
      "---  ------           --------------  -----  \n",
      " 0   Unnamed: 0       5 non-null      int64  \n",
      " 1   Continent        5 non-null      object \n",
      " 2   Country          5 non-null      object \n",
      " 3   female literacy  5 non-null      float64\n",
      " 4   fertility        5 non-null      float64\n",
      " 5   population       5 non-null      object \n",
      "dtypes: float64(2), int64(1), object(3)\n",
      "memory usage: 368.0+ bytes\n"
     ]
    }
   ],
   "source": [
    "# dataFrame information\n",
    "df.info()"
   ]
  },
  {
   "cell_type": "code",
   "execution_count": null,
   "metadata": {},
   "outputs": [],
   "source": []
  }
 ],
 "metadata": {
  "kernelspec": {
   "display_name": "Python 3",
   "language": "python",
   "name": "python3"
  },
  "language_info": {
   "codemirror_mode": {
    "name": "ipython",
    "version": 3
   },
   "file_extension": ".py",
   "mimetype": "text/x-python",
   "name": "python",
   "nbconvert_exporter": "python",
   "pygments_lexer": "ipython3",
   "version": "3.7.6"
  }
 },
 "nbformat": 4,
 "nbformat_minor": 4
}
