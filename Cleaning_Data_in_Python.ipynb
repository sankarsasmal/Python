{
 "cells": [
  {
   "attachments": {
    "Heading1.jpg": {
     "image/jpeg": "[encoded data removed]"
    }
   },
   "cell_type": "markdown",
   "metadata": {},
   "source": [
    "![Heading1.jpg](attachment:Heading1.jpg)"
   ]
  },
  {
   "cell_type": "markdown",
   "metadata": {},
   "source": [
    "**<span style=\"font-family:Lato color:black ; font-size:large\">INTRODUCTION :</span>**  \n",
    "***\n",
    " <p style=\"text-align: justify;font-family:Lato;color:#808080;font-size:medium\">A vital component of data science involves acquiring raw data and getting it into a form ready for analysis. It is commonly said that data scientists spend 80% of their time cleaning and manipulating data, and only 20% of their time actually analyzing it. This course will equip you with all the skills you need to clean your data in Python, from learning how to diagnose problems in your data, to dealing with missing values and outliers. At the end of the course, you'll apply all of the techniques you've learned to a case study to clean a real-world <code style=\"background-color:#DCF4F7;color:black\">Gapminder</code> dataset.</p>  \n"
   ]
  },
  {
   "cell_type": "markdown",
   "metadata": {},
   "source": [
    "<div class=\"alert alert-block alert-success\"; style =\"font-family:Lato;font-size:large;color:#085E5C\">\n",
    " <h2><span style=\"background: #33aacc;\n",
    "  border-radius: 0.8em;\n",
    "  -moz-border-radius: 0.8em;\n",
    "  -webkit-border-radius: 0.8em;\n",
    "  color: #ffffff;\n",
    "  display: inline-block;\n",
    "  font-weight: normal;\n",
    "  line-height: 1.6em;\n",
    "  margin-right: 15px;\n",
    "  margin-top: -15px;\n",
    "  text-align: center;\n",
    "  width: 1.6em; \">1</span>Exploring your data</h2>\n",
    "<p style=\"text-align: justify;font-family:Lato;color:#808080;font-size:medium\">Say you've just gotten your hands on a brand new dataset and are itching to start exploring it. But where do you begin, and how can you be sure your dataset is clean? This chapter will introduce you to data cleaning in Python. You'll learn how to explore your data with an eye for diagnosing issues such as outliers, missing values, and duplicate rows.</p>"
   ]
  },
  {
   "cell_type": "markdown",
   "metadata": {},
   "source": [
    "### <span style=\" font-family:Lato;color:#6A9E9D\">Diagnose data for cleaning </span>\n",
    "-----------\n",
    "### <span style=\" font-family:Lato;color:black\">Cleaning data</span>\n",
    "<ul>\n",
    "    <li style=\"text-align: justify;font-family:Lato;color:#808080;font-size:medium\">Prepare data for analysis</li>\n",
    "    <li style=\"text-align: justify;font-family:Lato;color:#808080;font-size:medium\">Data almost never comes in clean</li>\n",
    "    <li style=\"text-align: justify;font-family:Lato;color:#808080;font-size:medium\">Diagnose your data for problems</li>\n",
    " </ul> \n",
    " \n",
    "### <span style=\" font-family:Lato;color:black\">Common data problems</span>\n",
    "<ul>\n",
    "    <li style=\"text-align: justify;font-family:Lato;color:#808080;font-size:medium\">Inconsistent column names</li>\n",
    "    <li style=\"text-align: justify;font-family:Lato;color:#808080;font-size:medium\">Missing data</li>\n",
    "    <li style=\"text-align: justify;font-family:Lato;color:#808080;font-size:medium\">Outliers</li>\n",
    "    <li style=\"text-align: justify;font-family:Lato;color:#808080;font-size:medium\">Duplicate rows</li>\n",
    "    <li style=\"text-align: justify;font-family:Lato;color:#808080;font-size:medium\">Untidys</li>\n",
    "    <li style=\"text-align: justify;font-family:Lato;color:#808080;font-size:medium\">Need to process columns</li>\n",
    "    <li style=\"text-align: justify;font-family:Lato;color:#808080;font-size:medium\">Column types can signal unexpected data values</li>\n",
    "    \n",
    " </ul>\n",
    " "
   ]
  },
  {
   "cell_type": "markdown",
   "metadata": {},
   "source": [
    "||Continent|Country|female literacy|fertility|population|  \n",
    "|-----|-----|-----|-----|-----|-----|\n",
    "|0|ASI|China|90.5|1.769|1.324655e+09|\n",
    "|1|ASI|Inde|50.8|2.682|1.139965e+09|\n",
    "|2|NAM|USA|99.0|2.077|3.040600e+08|\n",
    "|3|ASI|Indonésie|88.8|2.132|2.273451e+08|\n",
    "|4|LAT|Brésil|90.2|1.827|NAN|  \n",
    "\n",
    "Source:<a href=\"www.eea.europa.eu/data\" title=\"data\">www.eea.europa.eu</a>  \n",
    "<ul>\n",
    "    <li style=\"text-align: justify;font-family:Lato;color:#808080;font-size:medium\">Space between two words (female literacy)</li>\n",
    "    <li style=\"text-align: justify;font-family:Lato;color:#808080;font-size:medium\">Column name inconsistencies(capital letter      vs small)</li>\n",
    "    <li style=\"text-align: justify;font-family:Lato;color:#808080;font-size:medium\">Missing data(NA)</li>\n",
    "    <li style=\"text-align: justify;font-family:Lato;color:#808080;font-size:medium\">Country names are in French</li>\n",
    "</ul>\n",
    "\n",
    "### <span style=\" font-family:Lato;color:black\">Load your data</span>"
   ]
  },
  {
   "cell_type": "markdown",
   "metadata": {},
   "source": [
    "<p style=\"text-align: justify;color:black;font-family:Roboto Mono;font-size:small\"> <span style=\"color:green;font-weight:bold; font-family:Roboto Mono\">import</span> pandas \n",
    "<span style=\"color:green;font-family:Roboto Mono;font-weight:bold; white-space: pre-line\">as</span> pd </p>  \n",
    "<p style=\"text-align: justify;color:black;font-family:Roboto Mono;font-size:small\"> df = pd.read_csv(<span style=\"color:red;font-weight:normal font-family:Roboto Mono\">'literary_birth_rate.csv'</span>) </p>  "
   ]
  },
  {
   "cell_type": "code",
   "execution_count": 45,
   "metadata": {},
   "outputs": [],
   "source": [
    "import pandas as pd\n",
    "# since it's not in jupyter notebook running directory\n",
    "# encoding='latin-1' use to address error for latin character in the data sheet\n",
    "df = pd.read_csv(r'C:\\Users\\sankar.sasmal\\Desktop\\python\\Cleaning Data\\Cleaning Data in Python\\literary_birth_rate.csv',\\\n",
    "                 encoding='latin-1')"
   ]
  },
  {
   "cell_type": "markdown",
   "metadata": {},
   "source": [
    "### <span style=\" font-family:Lato;color:black\">Visually inspect</span>"
   ]
  },
  {
   "cell_type": "code",
   "execution_count": 46,
   "metadata": {},
   "outputs": [
    {
     "data": {
      "text/html": [
       "<div>\n",
       "<style scoped>\n",
       "    .dataframe tbody tr th:only-of-type {\n",
       "        vertical-align: middle;\n",
       "    }\n",
       "\n",
       "    .dataframe tbody tr th {\n",
       "        vertical-align: top;\n",
       "    }\n",
       "\n",
       "    .dataframe thead th {\n",
       "        text-align: right;\n",
       "    }\n",
       "</style>\n",
       "<table border=\"1\" class=\"dataframe\">\n",
       "  <thead>\n",
       "    <tr style=\"text-align: right;\">\n",
       "      <th></th>\n",
       "      <th>Unnamed: 0</th>\n",
       "      <th>Continent</th>\n",
       "      <th>Country</th>\n",
       "      <th>female literacy</th>\n",
       "      <th>fertility</th>\n",
       "      <th>population</th>\n",
       "    </tr>\n",
       "  </thead>\n",
       "  <tbody>\n",
       "    <tr>\n",
       "      <th>0</th>\n",
       "      <td>0</td>\n",
       "      <td>ASI</td>\n",
       "      <td>Chine</td>\n",
       "      <td>90.5</td>\n",
       "      <td>1.769</td>\n",
       "      <td>1.32E+09</td>\n",
       "    </tr>\n",
       "    <tr>\n",
       "      <th>1</th>\n",
       "      <td>1</td>\n",
       "      <td>ASI</td>\n",
       "      <td>Inde</td>\n",
       "      <td>50.8</td>\n",
       "      <td>2.682</td>\n",
       "      <td>1.14E+09</td>\n",
       "    </tr>\n",
       "    <tr>\n",
       "      <th>2</th>\n",
       "      <td>2</td>\n",
       "      <td>NAM</td>\n",
       "      <td>USA</td>\n",
       "      <td>99.0</td>\n",
       "      <td>2.077</td>\n",
       "      <td>3.04E+08</td>\n",
       "    </tr>\n",
       "    <tr>\n",
       "      <th>3</th>\n",
       "      <td>3</td>\n",
       "      <td>ASI</td>\n",
       "      <td>Indonésie</td>\n",
       "      <td>88.8</td>\n",
       "      <td>2.132</td>\n",
       "      <td>2.27E+08</td>\n",
       "    </tr>\n",
       "    <tr>\n",
       "      <th>4</th>\n",
       "      <td>4</td>\n",
       "      <td>LAT</td>\n",
       "      <td>Brésil</td>\n",
       "      <td>90.2</td>\n",
       "      <td>1.827</td>\n",
       "      <td>NaN</td>\n",
       "    </tr>\n",
       "  </tbody>\n",
       "</table>\n",
       "</div>"
      ],
      "text/plain": [
       "   Unnamed: 0 Continent     Country   female literacy  fertility  population \n",
       "0           0       ASI       Chine              90.5       1.769    1.32E+09\n",
       "1           1       ASI        Inde              50.8       2.682    1.14E+09\n",
       "2           2       NAM         USA              99.0       2.077    3.04E+08\n",
       "3           3       ASI   Indonésie              88.8       2.132    2.27E+08\n",
       "4           4       LAT      Brésil              90.2       1.827        NaN "
      ]
     },
     "execution_count": 46,
     "metadata": {},
     "output_type": "execute_result"
    }
   ],
   "source": [
    "df.head()"
   ]
  },
  {
   "cell_type": "code",
   "execution_count": 47,
   "metadata": {},
   "outputs": [
    {
     "data": {
      "text/plain": [
       "Index(['Unnamed: 0', 'Continent ', 'Country ', 'female literacy', 'fertility ',\n",
       "       'population '],\n",
       "      dtype='object')"
      ]
     },
     "execution_count": 47,
     "metadata": {},
     "output_type": "execute_result"
    }
   ],
   "source": [
    "# getting columns name\n",
    "df.columns"
   ]
  },
  {
   "cell_type": "code",
   "execution_count": 48,
   "metadata": {},
   "outputs": [
    {
     "data": {
      "text/plain": [
       "(5, 6)"
      ]
     },
     "execution_count": 48,
     "metadata": {},
     "output_type": "execute_result"
    }
   ],
   "source": [
    "# number of rows & columns\n",
    "df.shape"
   ]
  },
  {
   "cell_type": "code",
   "execution_count": 49,
   "metadata": {},
   "outputs": [
    {
     "name": "stdout",
     "output_type": "stream",
     "text": [
      "<class 'pandas.core.frame.DataFrame'>\n",
      "RangeIndex: 5 entries, 0 to 4\n",
      "Data columns (total 6 columns):\n",
      " #   Column           Non-Null Count  Dtype  \n",
      "---  ------           --------------  -----  \n",
      " 0   Unnamed: 0       5 non-null      int64  \n",
      " 1   Continent        5 non-null      object \n",
      " 2   Country          5 non-null      object \n",
      " 3   female literacy  5 non-null      float64\n",
      " 4   fertility        5 non-null      float64\n",
      " 5   population       5 non-null      object \n",
      "dtypes: float64(2), int64(1), object(3)\n",
      "memory usage: 368.0+ bytes\n"
     ]
    }
   ],
   "source": [
    "# dataFrame information\n",
    "df.info()"
   ]
  },
  {
   "cell_type": "markdown",
   "metadata": {},
   "source": [
    "### <span style=\" font-family:Lato;color:red\">Excercise:</span>\n",
    "----\n",
    "### <span style=\" font-family:Lato;color:black\">Loading and viewing your data</span>"
   ]
  },
  {
   "cell_type": "markdown",
   "metadata": {},
   "source": [
    "<p style=\"text-align: justify;font-family:Lato;color:#808080;font-size:medium\">In this chapter, you're going to look at a subset of the Department of Buildings Job Application Filings dataset from the <span style=\"color:green;font-weight:bold; font-family:Roboto Mono\">NYC Open Data</span> portal. This dataset consists of job applications filed on January 22, 2017.</p> \n",
    "\n",
    "<p style=\"text-align: justify;font-family:Lato;color:#808080;font-size:medium\"> Your first task is to load this dataset into a DataFrame and then inspect it using the <code style=\"background-color:#DCF4F7;color:black\">.head()</code> and <code style=\"background-color:#DCF4F7;color:black\">.tail()</code> methods. However, you'll find out very quickly that the printed results don't allow you to see everything you need, since there are too many columns. Therefore, you need to look at the data in another way.</p> \n",
    "\n",
    "<p style=\"text-align: justify;font-family:Lato;color:#808080;font-size:medium\">The <code style=\"background-color:#DCF4F7;color:black\">.shape()</code> and <code style=\"background-color:#DCF4F7;color:black\">columns()</code> attributes let you see the shape of the DataFrame and obtain a list of its columns. From here, you can see which columns are relevant to the questions you'd like to ask of the data. To this end, a new DataFrame, <code style=\"background-color:#DCF4F7;color:black\">df_subset</code>, consisting only of these relevant columns, has been pre-loaded. This is the DataFrame you'll work with in the rest of the chapter.</p> \n",
    "\n",
    "<p style=\"text-align: justify;font-family:Lato;color:#808080;font-size:medium\">Get acquainted with the dataset now by exploring it with pandas! This initial exploratory analysis is a crucial first step of data cleaning.</p> "
   ]
  },
  {
   "cell_type": "markdown",
   "metadata": {},
   "source": [
    " <span style=\"position: absolute;\n",
    "      left:10; margin-top: 0px;\n",
    "      width: 20px; \n",
    "      height: 20px;\n",
    "      text-align: center;\n",
    "      border: 1px solid #0000;\n",
    "      background: #f8f8f8;\n",
    "      border-radius: 50%;\n",
    "      \">✔</span> <span style=\"\n",
    "      margin-left:30px;font-family:Lato;color:black;font-size:large\n",
    "      \">Instructions</span>\n",
    "\n",
    "- Import <code>pandas</code> as <code>pd</code>.\n",
    "- Read <code>'dob_job_application_filings_subset.csv'</code> into a DataFrame called <code>df</code>.\n",
    "- Print the head and tail of <code>df</code>.\n",
    "- Print the shape of <code>df</code> and its columns. Note: <code>.shape</code> and <code>.columns</code> are attributes, not methods, so you don't need to follow these with parentheses <code>()</code>.\n",
    "- Hit 'Submit Answer' to view the results! Notice the suspicious number of <code>0</code> values. Perhaps these represent missing data.\n"
   ]
  },
  {
   "cell_type": "code",
   "execution_count": 50,
   "metadata": {},
   "outputs": [],
   "source": [
    "import pandas as pd"
   ]
  },
  {
   "cell_type": "code",
   "execution_count": 51,
   "metadata": {},
   "outputs": [
    {
     "name": "stderr",
     "output_type": "stream",
     "text": [
      "C:\\Users\\sankar.sasmal\\Anaconda3\\lib\\site-packages\\IPython\\core\\interactiveshell.py:3063: DtypeWarning: Columns (16) have mixed types.Specify dtype option on import or set low_memory=False.\n",
      "  interactivity=interactivity, compiler=compiler, result=result)\n"
     ]
    }
   ],
   "source": [
    "df = pd.read_csv(\\\n",
    "    r'C:\\Users\\sankar.sasmal\\Desktop\\python\\Cleaning Data\\Cleaning Data in Python\\Data\\dob_job_application_filings_subset.csv')"
   ]
  },
  {
   "cell_type": "code",
   "execution_count": 52,
   "metadata": {
    "scrolled": false
   },
   "outputs": [
    {
     "data": {
      "text/html": [
       "<div>\n",
       "<style scoped>\n",
       "    .dataframe tbody tr th:only-of-type {\n",
       "        vertical-align: middle;\n",
       "    }\n",
       "\n",
       "    .dataframe tbody tr th {\n",
       "        vertical-align: top;\n",
       "    }\n",
       "\n",
       "    .dataframe thead th {\n",
       "        text-align: right;\n",
       "    }\n",
       "</style>\n",
       "<table border=\"1\" class=\"dataframe\">\n",
       "  <thead>\n",
       "    <tr style=\"text-align: right;\">\n",
       "      <th></th>\n",
       "      <th>Job #</th>\n",
       "      <th>Doc #</th>\n",
       "      <th>Borough</th>\n",
       "      <th>House #</th>\n",
       "      <th>Street Name</th>\n",
       "      <th>Block</th>\n",
       "      <th>Lot</th>\n",
       "      <th>Bin #</th>\n",
       "      <th>Job Type</th>\n",
       "      <th>Job Status</th>\n",
       "      <th>...</th>\n",
       "      <th>Owner's Last Name</th>\n",
       "      <th>Owner's Business Name</th>\n",
       "      <th>Owner's House Number</th>\n",
       "      <th>Owner'sHouse Street Name</th>\n",
       "      <th>City</th>\n",
       "      <th>State</th>\n",
       "      <th>Zip</th>\n",
       "      <th>Owner'sPhone #</th>\n",
       "      <th>Job Description</th>\n",
       "      <th>DOBRunDate</th>\n",
       "    </tr>\n",
       "  </thead>\n",
       "  <tbody>\n",
       "    <tr>\n",
       "      <th>0</th>\n",
       "      <td>121577873</td>\n",
       "      <td>2</td>\n",
       "      <td>MANHATTAN</td>\n",
       "      <td>386</td>\n",
       "      <td>PARK AVENUE SOUTH</td>\n",
       "      <td>857</td>\n",
       "      <td>38</td>\n",
       "      <td>1016890</td>\n",
       "      <td>A2</td>\n",
       "      <td>D</td>\n",
       "      <td>...</td>\n",
       "      <td>MIGLIORE</td>\n",
       "      <td>MACKLOWE MANAGEMENT</td>\n",
       "      <td>126</td>\n",
       "      <td>EAST 56TH STREET</td>\n",
       "      <td>NEW YORK</td>\n",
       "      <td>NY</td>\n",
       "      <td>10222</td>\n",
       "      <td>2125545837</td>\n",
       "      <td>GENERAL MECHANICAL &amp; PLUMBING MODIFICATIONS AS...</td>\n",
       "      <td>04/26/2013 12:00:00 AM</td>\n",
       "    </tr>\n",
       "    <tr>\n",
       "      <th>1</th>\n",
       "      <td>520129502</td>\n",
       "      <td>1</td>\n",
       "      <td>STATEN ISLAND</td>\n",
       "      <td>107</td>\n",
       "      <td>KNOX PLACE</td>\n",
       "      <td>342</td>\n",
       "      <td>1</td>\n",
       "      <td>5161350</td>\n",
       "      <td>A3</td>\n",
       "      <td>A</td>\n",
       "      <td>...</td>\n",
       "      <td>BLUMENBERG</td>\n",
       "      <td>NA</td>\n",
       "      <td>107</td>\n",
       "      <td>KNOX PLACE</td>\n",
       "      <td>STATEN ISLAND</td>\n",
       "      <td>NY</td>\n",
       "      <td>10314</td>\n",
       "      <td>3477398892</td>\n",
       "      <td>BUILDERS PAVEMENT PLAN 143 LF.                ...</td>\n",
       "      <td>04/26/2013 12:00:00 AM</td>\n",
       "    </tr>\n",
       "    <tr>\n",
       "      <th>2</th>\n",
       "      <td>121601560</td>\n",
       "      <td>1</td>\n",
       "      <td>MANHATTAN</td>\n",
       "      <td>63</td>\n",
       "      <td>WEST 131 STREET</td>\n",
       "      <td>1729</td>\n",
       "      <td>9</td>\n",
       "      <td>1053831</td>\n",
       "      <td>A2</td>\n",
       "      <td>Q</td>\n",
       "      <td>...</td>\n",
       "      <td>MARKOWITZ</td>\n",
       "      <td>635 RIVERSIDE DRIVE NY LLC</td>\n",
       "      <td>619</td>\n",
       "      <td>WEST 54TH STREET</td>\n",
       "      <td>NEW YORK</td>\n",
       "      <td>NY</td>\n",
       "      <td>10016</td>\n",
       "      <td>2127652555</td>\n",
       "      <td>GENERAL CONSTRUCTION TO INCLUDE NEW PARTITIONS...</td>\n",
       "      <td>04/26/2013 12:00:00 AM</td>\n",
       "    </tr>\n",
       "    <tr>\n",
       "      <th>3</th>\n",
       "      <td>121601203</td>\n",
       "      <td>1</td>\n",
       "      <td>MANHATTAN</td>\n",
       "      <td>48</td>\n",
       "      <td>WEST 25TH STREET</td>\n",
       "      <td>826</td>\n",
       "      <td>69</td>\n",
       "      <td>1015610</td>\n",
       "      <td>A2</td>\n",
       "      <td>D</td>\n",
       "      <td>...</td>\n",
       "      <td>CASALE</td>\n",
       "      <td>48 W 25 ST LLC C/O BERNSTEIN</td>\n",
       "      <td>150</td>\n",
       "      <td>WEST 30TH STREET</td>\n",
       "      <td>NEW YORK</td>\n",
       "      <td>NY</td>\n",
       "      <td>10001</td>\n",
       "      <td>2125941414</td>\n",
       "      <td>STRUCTURAL CHANGES ON THE 5TH FLOOR (MOONDOG E...</td>\n",
       "      <td>04/26/2013 12:00:00 AM</td>\n",
       "    </tr>\n",
       "    <tr>\n",
       "      <th>4</th>\n",
       "      <td>121601338</td>\n",
       "      <td>1</td>\n",
       "      <td>MANHATTAN</td>\n",
       "      <td>45</td>\n",
       "      <td>WEST 29 STREET</td>\n",
       "      <td>831</td>\n",
       "      <td>7</td>\n",
       "      <td>1015754</td>\n",
       "      <td>A3</td>\n",
       "      <td>D</td>\n",
       "      <td>...</td>\n",
       "      <td>LEE</td>\n",
       "      <td>HYUNG-HYANG REALTY CORP</td>\n",
       "      <td>614</td>\n",
       "      <td>8 AVENUE</td>\n",
       "      <td>NEW YORK</td>\n",
       "      <td>NY</td>\n",
       "      <td>10001</td>\n",
       "      <td>2019881222</td>\n",
       "      <td>FILING HEREWITH FACADE REPAIR PLANS. WORK SCOP...</td>\n",
       "      <td>04/26/2013 12:00:00 AM</td>\n",
       "    </tr>\n",
       "  </tbody>\n",
       "</table>\n",
       "<p>5 rows × 82 columns</p>\n",
       "</div>"
      ],
      "text/plain": [
       "       Job #  Doc #        Borough       House #  \\\n",
       "0  121577873      2      MANHATTAN  386            \n",
       "1  520129502      1  STATEN ISLAND  107            \n",
       "2  121601560      1      MANHATTAN  63             \n",
       "3  121601203      1      MANHATTAN  48             \n",
       "4  121601338      1      MANHATTAN  45             \n",
       "\n",
       "                        Street Name  Block  Lot    Bin # Job Type Job Status  \\\n",
       "0  PARK AVENUE SOUTH                   857   38  1016890       A2          D   \n",
       "1  KNOX PLACE                          342    1  5161350       A3          A   \n",
       "2  WEST 131 STREET                    1729    9  1053831       A2          Q   \n",
       "3  WEST 25TH STREET                    826   69  1015610       A2          D   \n",
       "4  WEST 29 STREET                      831    7  1015754       A3          D   \n",
       "\n",
       "   ...               Owner's Last Name             Owner's Business Name  \\\n",
       "0  ...  MIGLIORE                        MACKLOWE MANAGEMENT                \n",
       "1  ...  BLUMENBERG                      NA                                 \n",
       "2  ...  MARKOWITZ                       635 RIVERSIDE DRIVE NY LLC         \n",
       "3  ...  CASALE                          48 W 25 ST LLC C/O BERNSTEIN       \n",
       "4  ...  LEE                             HYUNG-HYANG REALTY CORP            \n",
       "\n",
       "  Owner's House Number          Owner'sHouse Street Name            City   \\\n",
       "0         126           EAST 56TH STREET                  NEW YORK          \n",
       "1         107           KNOX PLACE                        STATEN ISLAND     \n",
       "2         619           WEST 54TH STREET                  NEW YORK          \n",
       "3         150           WEST 30TH STREET                  NEW YORK          \n",
       "4         614           8 AVENUE                          NEW YORK          \n",
       "\n",
       "  State    Zip Owner'sPhone #  \\\n",
       "0    NY  10222     2125545837   \n",
       "1    NY  10314     3477398892   \n",
       "2    NY  10016     2127652555   \n",
       "3    NY  10001     2125941414   \n",
       "4    NY  10001     2019881222   \n",
       "\n",
       "                                     Job Description              DOBRunDate  \n",
       "0  GENERAL MECHANICAL & PLUMBING MODIFICATIONS AS...  04/26/2013 12:00:00 AM  \n",
       "1  BUILDERS PAVEMENT PLAN 143 LF.                ...  04/26/2013 12:00:00 AM  \n",
       "2  GENERAL CONSTRUCTION TO INCLUDE NEW PARTITIONS...  04/26/2013 12:00:00 AM  \n",
       "3  STRUCTURAL CHANGES ON THE 5TH FLOOR (MOONDOG E...  04/26/2013 12:00:00 AM  \n",
       "4  FILING HEREWITH FACADE REPAIR PLANS. WORK SCOP...  04/26/2013 12:00:00 AM  \n",
       "\n",
       "[5 rows x 82 columns]"
      ]
     },
     "execution_count": 52,
     "metadata": {},
     "output_type": "execute_result"
    }
   ],
   "source": [
    "# Print first few rows of the df\n",
    "df.head()"
   ]
  },
  {
   "cell_type": "code",
   "execution_count": 53,
   "metadata": {
    "scrolled": true
   },
   "outputs": [
    {
     "data": {
      "text/plain": [
       "(12846, 82)"
      ]
     },
     "execution_count": 53,
     "metadata": {},
     "output_type": "execute_result"
    }
   ],
   "source": [
    "# Print the shape of df\n",
    "df.shape"
   ]
  },
  {
   "cell_type": "code",
   "execution_count": 54,
   "metadata": {
    "scrolled": false
   },
   "outputs": [
    {
     "data": {
      "text/plain": [
       "Index(['Job #', 'Doc #', 'Borough', 'House #', 'Street Name', 'Block', 'Lot',\n",
       "       'Bin #', 'Job Type', 'Job Status', 'Job Status Descrp',\n",
       "       'Latest Action Date', 'Building Type', 'Community - Board', 'Cluster',\n",
       "       'Landmarked', 'Adult Estab', 'Loft Board', 'City Owned', 'Little e',\n",
       "       'PC Filed', 'eFiling Filed', 'Plumbing', 'Mechanical', 'Boiler',\n",
       "       'Fuel Burning', 'Fuel Storage', 'Standpipe', 'Sprinkler', 'Fire Alarm',\n",
       "       'Equipment', 'Fire Suppression', 'Curb Cut', 'Other',\n",
       "       'Other Description', 'Applicant's First Name', 'Applicant's Last Name',\n",
       "       'Applicant Professional Title', 'Applicant License #',\n",
       "       'Professional Cert', 'Pre- Filing Date', 'Paid', 'Fully Paid',\n",
       "       'Assigned', 'Approved', 'Fully Permitted', 'Initial Cost',\n",
       "       'Total Est. Fee', 'Fee Status', 'Existing Zoning Sqft',\n",
       "       'Proposed Zoning Sqft', 'Horizontal Enlrgmt', 'Vertical Enlrgmt',\n",
       "       'Enlargement SQ Footage', 'Street Frontage', 'ExistingNo. of Stories',\n",
       "       'Proposed No. of Stories', 'Existing Height', 'Proposed Height',\n",
       "       'Existing Dwelling Units', 'Proposed Dwelling Units',\n",
       "       'Existing Occupancy', 'Proposed Occupancy', 'Site Fill', 'Zoning Dist1',\n",
       "       'Zoning Dist2', 'Zoning Dist3', 'Special District 1',\n",
       "       'Special District 2', 'Owner Type', 'Non-Profit', 'Owner's First Name',\n",
       "       'Owner's Last Name', 'Owner's Business Name', 'Owner's House Number',\n",
       "       'Owner'sHouse Street Name', 'City ', 'State', 'Zip', 'Owner'sPhone #',\n",
       "       'Job Description', 'DOBRunDate'],\n",
       "      dtype='object')"
      ]
     },
     "execution_count": 54,
     "metadata": {},
     "output_type": "execute_result"
    }
   ],
   "source": [
    "# Print all the columns of df\n",
    "df.columns"
   ]
  },
  {
   "cell_type": "code",
   "execution_count": 55,
   "metadata": {},
   "outputs": [
    {
     "data": {
      "text/html": [
       "<div>\n",
       "<style scoped>\n",
       "    .dataframe tbody tr th:only-of-type {\n",
       "        vertical-align: middle;\n",
       "    }\n",
       "\n",
       "    .dataframe tbody tr th {\n",
       "        vertical-align: top;\n",
       "    }\n",
       "\n",
       "    .dataframe thead th {\n",
       "        text-align: right;\n",
       "    }\n",
       "</style>\n",
       "<table border=\"1\" class=\"dataframe\">\n",
       "  <thead>\n",
       "    <tr style=\"text-align: right;\">\n",
       "      <th></th>\n",
       "      <th>Job #</th>\n",
       "      <th>Doc #</th>\n",
       "      <th>Borough</th>\n",
       "      <th>Initial Cost</th>\n",
       "      <th>Total Est. Fee</th>\n",
       "      <th>Existing Zoning Sqft</th>\n",
       "      <th>Proposed Zoning Sqft</th>\n",
       "      <th>Enlargement SQ Footage</th>\n",
       "      <th>Street Frontage</th>\n",
       "      <th>ExistingNo. of Stories</th>\n",
       "      <th>Proposed No. of Stories</th>\n",
       "      <th>Existing Height</th>\n",
       "      <th>Proposed Height</th>\n",
       "    </tr>\n",
       "  </thead>\n",
       "  <tbody>\n",
       "    <tr>\n",
       "      <th>0</th>\n",
       "      <td>121577873</td>\n",
       "      <td>2</td>\n",
       "      <td>MANHATTAN</td>\n",
       "      <td>$75000.00</td>\n",
       "      <td>$986.00</td>\n",
       "      <td>0</td>\n",
       "      <td>0</td>\n",
       "      <td>0</td>\n",
       "      <td>0</td>\n",
       "      <td>0</td>\n",
       "      <td>0</td>\n",
       "      <td>0</td>\n",
       "      <td>0</td>\n",
       "    </tr>\n",
       "    <tr>\n",
       "      <th>1</th>\n",
       "      <td>520129502</td>\n",
       "      <td>1</td>\n",
       "      <td>STATEN ISLAND</td>\n",
       "      <td>$0.00</td>\n",
       "      <td>$1144.00</td>\n",
       "      <td>0</td>\n",
       "      <td>0</td>\n",
       "      <td>0</td>\n",
       "      <td>143</td>\n",
       "      <td>0</td>\n",
       "      <td>0</td>\n",
       "      <td>0</td>\n",
       "      <td>0</td>\n",
       "    </tr>\n",
       "    <tr>\n",
       "      <th>2</th>\n",
       "      <td>121601560</td>\n",
       "      <td>1</td>\n",
       "      <td>MANHATTAN</td>\n",
       "      <td>$30000.00</td>\n",
       "      <td>$522.50</td>\n",
       "      <td>0</td>\n",
       "      <td>0</td>\n",
       "      <td>0</td>\n",
       "      <td>0</td>\n",
       "      <td>5</td>\n",
       "      <td>5</td>\n",
       "      <td>54</td>\n",
       "      <td>54</td>\n",
       "    </tr>\n",
       "    <tr>\n",
       "      <th>3</th>\n",
       "      <td>121601203</td>\n",
       "      <td>1</td>\n",
       "      <td>MANHATTAN</td>\n",
       "      <td>$1500.00</td>\n",
       "      <td>$225.00</td>\n",
       "      <td>0</td>\n",
       "      <td>0</td>\n",
       "      <td>0</td>\n",
       "      <td>0</td>\n",
       "      <td>12</td>\n",
       "      <td>12</td>\n",
       "      <td>120</td>\n",
       "      <td>120</td>\n",
       "    </tr>\n",
       "    <tr>\n",
       "      <th>4</th>\n",
       "      <td>121601338</td>\n",
       "      <td>1</td>\n",
       "      <td>MANHATTAN</td>\n",
       "      <td>$19500.00</td>\n",
       "      <td>$389.50</td>\n",
       "      <td>0</td>\n",
       "      <td>0</td>\n",
       "      <td>0</td>\n",
       "      <td>0</td>\n",
       "      <td>6</td>\n",
       "      <td>6</td>\n",
       "      <td>64</td>\n",
       "      <td>64</td>\n",
       "    </tr>\n",
       "  </tbody>\n",
       "</table>\n",
       "</div>"
      ],
      "text/plain": [
       "       Job #  Doc #        Borough Initial Cost Total Est. Fee  \\\n",
       "0  121577873      2      MANHATTAN    $75000.00        $986.00   \n",
       "1  520129502      1  STATEN ISLAND        $0.00       $1144.00   \n",
       "2  121601560      1      MANHATTAN    $30000.00        $522.50   \n",
       "3  121601203      1      MANHATTAN     $1500.00        $225.00   \n",
       "4  121601338      1      MANHATTAN    $19500.00        $389.50   \n",
       "\n",
       "   Existing Zoning Sqft  Proposed Zoning Sqft  Enlargement SQ Footage  \\\n",
       "0                     0                     0                       0   \n",
       "1                     0                     0                       0   \n",
       "2                     0                     0                       0   \n",
       "3                     0                     0                       0   \n",
       "4                     0                     0                       0   \n",
       "\n",
       "   Street Frontage  ExistingNo. of Stories  Proposed No. of Stories  \\\n",
       "0                0                       0                        0   \n",
       "1              143                       0                        0   \n",
       "2                0                       5                        5   \n",
       "3                0                      12                       12   \n",
       "4                0                       6                        6   \n",
       "\n",
       "   Existing Height  Proposed Height  \n",
       "0                0                0  \n",
       "1                0                0  \n",
       "2               54               54  \n",
       "3              120              120  \n",
       "4               64               64  "
      ]
     },
     "execution_count": 55,
     "metadata": {},
     "output_type": "execute_result"
    }
   ],
   "source": [
    "df_subset = df[['Job #', 'Doc #', 'Borough', 'Initial Cost', 'Total Est. Fee', 'Existing Zoning Sqft', 'Proposed Zoning Sqft',\\\n",
    "                'Enlargement SQ Footage', 'Street Frontage', 'ExistingNo. of Stories',\n",
    "       'Proposed No. of Stories', 'Existing Height', 'Proposed Height']]\n",
    "df_subset.head()"
   ]
  },
  {
   "cell_type": "markdown",
   "metadata": {},
   "source": [
    "----\n",
    "<p style=\"text-align: justify;font-family:Lato;color:#808080;font-size:medium\">In addition to the suspicious number of <code style=\"background-color:#DCF4F7;color:black\">0</code> values, which may represent missing data, notice that the columns that contain monetary values - <code style=\"background-color:#DCF4F7;color:black\">'Initial Cost'</code> and <code style=\"background-color:#DCF4F7;color:black\">'Total Est. Fee'</code> - have a dollar sign in the beginning. These columns may be coded as strings instead of numeric values. You will check this in the next exercise.</p> "
   ]
  },
  {
   "cell_type": "markdown",
   "metadata": {},
   "source": [
    "### <span style=\" font-family:Lato;color:black\">Further diagnosis</span>\n",
    "<p style=\"text-align: justify;font-family:Lato;color:#808080;font-size:medium\"> In the previous exercise, you identified some potentially unclean or missing data. Now, you'll continue to diagnose your data with the very useful <code style=\"background-color:#DCF4F7;color:black\">.info()</code> method.</p> \n",
    "<p style=\"text-align: justify;font-family:Lato;color:#808080;font-size:medium\"> The <code style=\"background-color:#DCF4F7;color:black\">.info()</code> method provides important information about a DataFrame, such as the number of rows, number of columns, number of non-missing values in each column, and the data type stored in each column. This is the kind of information that will allow you to confirm whether the <code style=\"background-color:#DCF4F7;color:black\">'Initial Cost'</code> and <code style=\"background-color:#DCF4F7;color:black\">'Total Est. Fee'</code> columns are numeric or strings. From the results, you'll also be able to see whether or not all columns have complete data in them.</p>\n",
    "<p style=\"text-align: justify;font-family:Lato;color:#808080;font-size:medium\"> The full DataFrame <code style=\"background-color:#DCF4F7;color:black\">df</code> and the subset DataFrame <code style=\"background-color:#DCF4F7;color:black\">df_subset</code> have been pre-loaded. Your task is to use the <code style=\"background-color:#DCF4F7;color:black\">.info()</code> method on these and analyze the results. method.</p> "
   ]
  },
  {
   "cell_type": "code",
   "execution_count": 56,
   "metadata": {
    "scrolled": false
   },
   "outputs": [
    {
     "name": "stdout",
     "output_type": "stream",
     "text": [
      "<class 'pandas.core.frame.DataFrame'>\n",
      "RangeIndex: 12846 entries, 0 to 12845\n",
      "Data columns (total 13 columns):\n",
      " #   Column                   Non-Null Count  Dtype \n",
      "---  ------                   --------------  ----- \n",
      " 0   Job #                    12846 non-null  int64 \n",
      " 1   Doc #                    12846 non-null  int64 \n",
      " 2   Borough                  12846 non-null  object\n",
      " 3   Initial Cost             12846 non-null  object\n",
      " 4   Total Est. Fee           12846 non-null  object\n",
      " 5   Existing Zoning Sqft     12846 non-null  int64 \n",
      " 6   Proposed Zoning Sqft     12846 non-null  int64 \n",
      " 7   Enlargement SQ Footage   12846 non-null  int64 \n",
      " 8   Street Frontage          12846 non-null  int64 \n",
      " 9   ExistingNo. of Stories   12846 non-null  int64 \n",
      " 10  Proposed No. of Stories  12846 non-null  int64 \n",
      " 11  Existing Height          12846 non-null  int64 \n",
      " 12  Proposed Height          12846 non-null  int64 \n",
      "dtypes: int64(10), object(3)\n",
      "memory usage: 1.3+ MB\n"
     ]
    }
   ],
   "source": [
    "df_subset.info()"
   ]
  },
  {
   "cell_type": "markdown",
   "metadata": {},
   "source": [
    "----\n",
    "<p style=\"text-align: justify;font-family:Lato;color:#808080;font-size:medium\">Notice that the columns <code style=\"background-color:#DCF4F7;color:black\">'Initial Cost'</code> and <code style=\"background-color:#DCF4F7;color:black\">'Total Est. Fee'</code> are of type <code style=\"background-color:#DCF4F7;color:black\">object</code> . The currency sign in the beginning of each value in these columns needs to be removed, and the columns need to be converted to numeric. In the full DataFrame, note that there are a lot of missing values. You saw in the previous exercise that there are also a lot of<code style=\"background-color:#DCF4F7;color:black\">0</code> values. Given the amount of data that is missing in the full dataset, it's highly likely that these <code style=\"background-color:#DCF4F7;color:black\">0</code> values represent missing data.</p> "
   ]
  },
  {
   "cell_type": "markdown",
   "metadata": {},
   "source": [
    "### <span style=\" font-family:Lato;color:black\">Further diagnosis</span>  \n",
    "<p style=\"text-align: justify;font-family:Lato;color:#808080;font-size:medium\"> You'll now use the <code style=\"background-color:#DCF4F7;color:black\">.describe()</code> method to calculate summary statistics of your data.</p>\n",
    "<p style=\"text-align: justify;font-family:Lato;color:#808080;font-size:medium\"> In this exercise, an adapted DataFrame has been prepared for you to inspect, with fewer columns to increase readability in the IPython Shell.</p>\n",
    "<p style=\"text-align: justify;font-family:Lato;color:#808080;font-size:medium\"> This adapted DataFrame has been pre-loaded as <code style=\"background-color:#DCF4F7;color:black\">df.</code> Your job is to use the <code style=\"background-color:#DCF4F7;color:black\">.describe()</code> method on it in the IPython Shell and select the statement below that is <b>False</b>.</p>"
   ]
  },
  {
   "cell_type": "code",
   "execution_count": 57,
   "metadata": {},
   "outputs": [
    {
     "data": {
      "text/html": [
       "<div>\n",
       "<style scoped>\n",
       "    .dataframe tbody tr th:only-of-type {\n",
       "        vertical-align: middle;\n",
       "    }\n",
       "\n",
       "    .dataframe tbody tr th {\n",
       "        vertical-align: top;\n",
       "    }\n",
       "\n",
       "    .dataframe thead th {\n",
       "        text-align: right;\n",
       "    }\n",
       "</style>\n",
       "<table border=\"1\" class=\"dataframe\">\n",
       "  <thead>\n",
       "    <tr style=\"text-align: right;\">\n",
       "      <th></th>\n",
       "      <th>Job #</th>\n",
       "      <th>Doc #</th>\n",
       "      <th>Block</th>\n",
       "      <th>Lot</th>\n",
       "      <th>Bin #</th>\n",
       "      <th>Cluster</th>\n",
       "      <th>PC Filed</th>\n",
       "      <th>Existing Zoning Sqft</th>\n",
       "      <th>Proposed Zoning Sqft</th>\n",
       "      <th>Enlargement SQ Footage</th>\n",
       "      <th>Street Frontage</th>\n",
       "      <th>ExistingNo. of Stories</th>\n",
       "      <th>Proposed No. of Stories</th>\n",
       "      <th>Existing Height</th>\n",
       "      <th>Proposed Height</th>\n",
       "      <th>Owner Type</th>\n",
       "      <th>Zip</th>\n",
       "      <th>Owner'sPhone #</th>\n",
       "    </tr>\n",
       "  </thead>\n",
       "  <tbody>\n",
       "    <tr>\n",
       "      <th>count</th>\n",
       "      <td>1.284600e+04</td>\n",
       "      <td>12846.000000</td>\n",
       "      <td>12846.000000</td>\n",
       "      <td>12846.000000</td>\n",
       "      <td>1.284600e+04</td>\n",
       "      <td>0.0</td>\n",
       "      <td>0.0</td>\n",
       "      <td>1.284600e+04</td>\n",
       "      <td>1.284600e+04</td>\n",
       "      <td>12846.000000</td>\n",
       "      <td>12846.000000</td>\n",
       "      <td>12846.000000</td>\n",
       "      <td>12846.000000</td>\n",
       "      <td>12846.000000</td>\n",
       "      <td>12846.000000</td>\n",
       "      <td>0.0</td>\n",
       "      <td>1.284600e+04</td>\n",
       "      <td>1.284600e+04</td>\n",
       "    </tr>\n",
       "    <tr>\n",
       "      <th>mean</th>\n",
       "      <td>2.426788e+08</td>\n",
       "      <td>1.162930</td>\n",
       "      <td>2703.834735</td>\n",
       "      <td>623.303441</td>\n",
       "      <td>2.314997e+06</td>\n",
       "      <td>NaN</td>\n",
       "      <td>NaN</td>\n",
       "      <td>1.439973e+03</td>\n",
       "      <td>2.007286e+03</td>\n",
       "      <td>46.101432</td>\n",
       "      <td>3.069360</td>\n",
       "      <td>8.062354</td>\n",
       "      <td>8.144325</td>\n",
       "      <td>94.022809</td>\n",
       "      <td>94.917562</td>\n",
       "      <td>NaN</td>\n",
       "      <td>1.210268e+06</td>\n",
       "      <td>5.025739e+09</td>\n",
       "    </tr>\n",
       "    <tr>\n",
       "      <th>std</th>\n",
       "      <td>1.312507e+08</td>\n",
       "      <td>0.514937</td>\n",
       "      <td>3143.002812</td>\n",
       "      <td>2000.934794</td>\n",
       "      <td>1.399062e+06</td>\n",
       "      <td>NaN</td>\n",
       "      <td>NaN</td>\n",
       "      <td>3.860757e+04</td>\n",
       "      <td>4.081570e+04</td>\n",
       "      <td>784.216569</td>\n",
       "      <td>37.246034</td>\n",
       "      <td>11.874080</td>\n",
       "      <td>11.843492</td>\n",
       "      <td>146.917360</td>\n",
       "      <td>146.580666</td>\n",
       "      <td>NaN</td>\n",
       "      <td>1.343588e+07</td>\n",
       "      <td>2.738212e+09</td>\n",
       "    </tr>\n",
       "    <tr>\n",
       "      <th>min</th>\n",
       "      <td>1.036438e+08</td>\n",
       "      <td>1.000000</td>\n",
       "      <td>1.000000</td>\n",
       "      <td>0.000000</td>\n",
       "      <td>1.000003e+06</td>\n",
       "      <td>NaN</td>\n",
       "      <td>NaN</td>\n",
       "      <td>0.000000e+00</td>\n",
       "      <td>0.000000e+00</td>\n",
       "      <td>0.000000</td>\n",
       "      <td>0.000000</td>\n",
       "      <td>0.000000</td>\n",
       "      <td>0.000000</td>\n",
       "      <td>0.000000</td>\n",
       "      <td>0.000000</td>\n",
       "      <td>NaN</td>\n",
       "      <td>8.300000e+02</td>\n",
       "      <td>0.000000e+00</td>\n",
       "    </tr>\n",
       "    <tr>\n",
       "      <th>25%</th>\n",
       "      <td>1.216206e+08</td>\n",
       "      <td>1.000000</td>\n",
       "      <td>836.000000</td>\n",
       "      <td>12.000000</td>\n",
       "      <td>1.035728e+06</td>\n",
       "      <td>NaN</td>\n",
       "      <td>NaN</td>\n",
       "      <td>0.000000e+00</td>\n",
       "      <td>0.000000e+00</td>\n",
       "      <td>0.000000</td>\n",
       "      <td>0.000000</td>\n",
       "      <td>1.000000</td>\n",
       "      <td>2.000000</td>\n",
       "      <td>20.000000</td>\n",
       "      <td>21.000000</td>\n",
       "      <td>NaN</td>\n",
       "      <td>1.001900e+04</td>\n",
       "      <td>2.126841e+09</td>\n",
       "    </tr>\n",
       "    <tr>\n",
       "      <th>50%</th>\n",
       "      <td>2.202645e+08</td>\n",
       "      <td>1.000000</td>\n",
       "      <td>1411.500000</td>\n",
       "      <td>32.000000</td>\n",
       "      <td>2.004234e+06</td>\n",
       "      <td>NaN</td>\n",
       "      <td>NaN</td>\n",
       "      <td>0.000000e+00</td>\n",
       "      <td>0.000000e+00</td>\n",
       "      <td>0.000000</td>\n",
       "      <td>0.000000</td>\n",
       "      <td>4.000000</td>\n",
       "      <td>4.000000</td>\n",
       "      <td>45.000000</td>\n",
       "      <td>45.000000</td>\n",
       "      <td>NaN</td>\n",
       "      <td>1.031000e+04</td>\n",
       "      <td>5.169379e+09</td>\n",
       "    </tr>\n",
       "    <tr>\n",
       "      <th>75%</th>\n",
       "      <td>3.208652e+08</td>\n",
       "      <td>1.000000</td>\n",
       "      <td>3355.000000</td>\n",
       "      <td>59.000000</td>\n",
       "      <td>3.343823e+06</td>\n",
       "      <td>NaN</td>\n",
       "      <td>NaN</td>\n",
       "      <td>0.000000e+00</td>\n",
       "      <td>0.000000e+00</td>\n",
       "      <td>0.000000</td>\n",
       "      <td>0.000000</td>\n",
       "      <td>9.000000</td>\n",
       "      <td>9.000000</td>\n",
       "      <td>105.000000</td>\n",
       "      <td>107.000000</td>\n",
       "      <td>NaN</td>\n",
       "      <td>1.122100e+04</td>\n",
       "      <td>7.186809e+09</td>\n",
       "    </tr>\n",
       "    <tr>\n",
       "      <th>max</th>\n",
       "      <td>5.400246e+08</td>\n",
       "      <td>9.000000</td>\n",
       "      <td>99999.000000</td>\n",
       "      <td>9078.000000</td>\n",
       "      <td>5.864852e+06</td>\n",
       "      <td>NaN</td>\n",
       "      <td>NaN</td>\n",
       "      <td>2.873107e+06</td>\n",
       "      <td>2.873107e+06</td>\n",
       "      <td>50384.000000</td>\n",
       "      <td>3160.000000</td>\n",
       "      <td>102.000000</td>\n",
       "      <td>102.000000</td>\n",
       "      <td>4200.000000</td>\n",
       "      <td>4200.000000</td>\n",
       "      <td>NaN</td>\n",
       "      <td>6.063135e+08</td>\n",
       "      <td>9.787266e+09</td>\n",
       "    </tr>\n",
       "  </tbody>\n",
       "</table>\n",
       "</div>"
      ],
      "text/plain": [
       "              Job #         Doc #         Block           Lot         Bin #  \\\n",
       "count  1.284600e+04  12846.000000  12846.000000  12846.000000  1.284600e+04   \n",
       "mean   2.426788e+08      1.162930   2703.834735    623.303441  2.314997e+06   \n",
       "std    1.312507e+08      0.514937   3143.002812   2000.934794  1.399062e+06   \n",
       "min    1.036438e+08      1.000000      1.000000      0.000000  1.000003e+06   \n",
       "25%    1.216206e+08      1.000000    836.000000     12.000000  1.035728e+06   \n",
       "50%    2.202645e+08      1.000000   1411.500000     32.000000  2.004234e+06   \n",
       "75%    3.208652e+08      1.000000   3355.000000     59.000000  3.343823e+06   \n",
       "max    5.400246e+08      9.000000  99999.000000   9078.000000  5.864852e+06   \n",
       "\n",
       "       Cluster  PC Filed  Existing Zoning Sqft  Proposed Zoning Sqft  \\\n",
       "count      0.0       0.0          1.284600e+04          1.284600e+04   \n",
       "mean       NaN       NaN          1.439973e+03          2.007286e+03   \n",
       "std        NaN       NaN          3.860757e+04          4.081570e+04   \n",
       "min        NaN       NaN          0.000000e+00          0.000000e+00   \n",
       "25%        NaN       NaN          0.000000e+00          0.000000e+00   \n",
       "50%        NaN       NaN          0.000000e+00          0.000000e+00   \n",
       "75%        NaN       NaN          0.000000e+00          0.000000e+00   \n",
       "max        NaN       NaN          2.873107e+06          2.873107e+06   \n",
       "\n",
       "       Enlargement SQ Footage  Street Frontage  ExistingNo. of Stories  \\\n",
       "count            12846.000000     12846.000000            12846.000000   \n",
       "mean                46.101432         3.069360                8.062354   \n",
       "std                784.216569        37.246034               11.874080   \n",
       "min                  0.000000         0.000000                0.000000   \n",
       "25%                  0.000000         0.000000                1.000000   \n",
       "50%                  0.000000         0.000000                4.000000   \n",
       "75%                  0.000000         0.000000                9.000000   \n",
       "max              50384.000000      3160.000000              102.000000   \n",
       "\n",
       "       Proposed No. of Stories  Existing Height  Proposed Height  Owner Type  \\\n",
       "count             12846.000000     12846.000000     12846.000000         0.0   \n",
       "mean                  8.144325        94.022809        94.917562         NaN   \n",
       "std                  11.843492       146.917360       146.580666         NaN   \n",
       "min                   0.000000         0.000000         0.000000         NaN   \n",
       "25%                   2.000000        20.000000        21.000000         NaN   \n",
       "50%                   4.000000        45.000000        45.000000         NaN   \n",
       "75%                   9.000000       105.000000       107.000000         NaN   \n",
       "max                 102.000000      4200.000000      4200.000000         NaN   \n",
       "\n",
       "                Zip  Owner'sPhone #  \n",
       "count  1.284600e+04    1.284600e+04  \n",
       "mean   1.210268e+06    5.025739e+09  \n",
       "std    1.343588e+07    2.738212e+09  \n",
       "min    8.300000e+02    0.000000e+00  \n",
       "25%    1.001900e+04    2.126841e+09  \n",
       "50%    1.031000e+04    5.169379e+09  \n",
       "75%    1.122100e+04    7.186809e+09  \n",
       "max    6.063135e+08    9.787266e+09  "
      ]
     },
     "execution_count": 57,
     "metadata": {},
     "output_type": "execute_result"
    }
   ],
   "source": [
    "df.describe()"
   ]
  },
  {
   "cell_type": "markdown",
   "metadata": {},
   "source": [
    " <span style=\"position: absolute;\n",
    "      left:10; margin-top: 0px;\n",
    "      width: 20px; \n",
    "      height: 20px;\n",
    "      text-align: center;\n",
    "      border: 1px solid #0000;\n",
    "      background: #f8f8f8;\n",
    "      border-radius: 50%;\n",
    "      \">✔</span> <span style=\"\n",
    "      margin-left:30px;font-family:Lato;color:black;font-size:large\n",
    "      \">Instructions</span>\n",
    "<p style=\"text-align: justify;font-family:Lato;color:black;font-size:medium\">Answer</p> \n",
    "\n",
    "<input type=\"radio\" > The mean of <code>'Existing Height'</code> is <code>94.022809</code> \n",
    "\n",
    "<input type=\"radio\" > There are <code>12846</code> entries in the DataFrame. \n",
    "\n",
    "\n",
    "<input type=\"radio\" > The standard deviation of <code>'Street Frontage'</code> is <code>11.874080</code>.  \n",
    "\n",
    "<input type=\"radio\" checked> The maximum of <code>'Proposed Height'</code> is <code>4200</code>.\n"
   ]
  },
  {
   "cell_type": "markdown",
   "metadata": {},
   "source": [
    "### <span style=\" font-family:Lato;color:black\">Frequency counts for categorical data</span>  \n",
    "<p style=\"text-align: justify;font-family:Lato;color:#808080;font-size:medium\"> As you've seen, <code>.describe()</code> can only be used on numeric columns. So how can you diagnose data issues when you have categorical data? One way is by using the <code>.value_counts()</code> method, which returns the frequency counts for each unique value in a column!</p>\n",
    "<p style=\"text-align: justify;font-family:Lato;color:#808080;font-size:medium\"> This method also has an optional parameter called <code>dropna</code> which is <code>True</code> by default. What this means is if you have missing data in a column, it will not give a frequency count of them. You want to set the <code>dropna</code> column to <code>False</code> so if there are missing values in a column, it will give you the frequency counts.</p>\n"
   ]
  },
  {
   "cell_type": "markdown",
   "metadata": {},
   "source": [
    " <span style=\"position: absolute;\n",
    "      left:10; margin-top: 0px;\n",
    "      width: 20px; \n",
    "      height: 20px;\n",
    "      text-align: center;\n",
    "      border: 1px solid #0000;\n",
    "      background: #f8f8f8;\n",
    "      border-radius: 50%;\n",
    "      \">✔</span> <span style=\"\n",
    "      margin-left:30px;font-family:Lato;color:black;font-size:large\n",
    "      \">Instructions</span> \n",
    "\n",
    "- Print the value counts for:  \n",
    "\n",
    "<p style=\"text-indent: 40px\"> -  The 'Borough' column.</p>  \n",
    "\n",
    "<p style=\"text-indent: 40px\"> -  The 'State' column.</p>  \n",
    "\n",
    "<p style=\"text-indent: 40px\"> -  The 'State Fill' column.</p> "
   ]
  },
  {
   "cell_type": "code",
   "execution_count": 58,
   "metadata": {},
   "outputs": [
    {
     "name": "stdout",
     "output_type": "stream",
     "text": [
      "MANHATTAN        6310\n",
      "BROOKLYN         2866\n",
      "QUEENS           2121\n",
      "BRONX             974\n",
      "STATEN ISLAND     575\n",
      "Name: Borough, dtype: int64\n"
     ]
    }
   ],
   "source": [
    "# Print the value counts for 'Borough'\n",
    "print(df['Borough'].value_counts(dropna = False))"
   ]
  },
  {
   "cell_type": "code",
   "execution_count": 59,
   "metadata": {},
   "outputs": [
    {
     "name": "stdout",
     "output_type": "stream",
     "text": [
      "NY    12391\n",
      "NJ      241\n",
      "PA       38\n",
      "CA       20\n",
      "OH       19\n",
      "FL       17\n",
      "IL       17\n",
      "CT       16\n",
      "TX       13\n",
      "TN       10\n",
      "MD        7\n",
      "DC        7\n",
      "MA        6\n",
      "GA        6\n",
      "KS        6\n",
      "VA        5\n",
      "CO        4\n",
      "WI        3\n",
      "SC        3\n",
      "MN        3\n",
      "AZ        3\n",
      "RI        2\n",
      "UT        2\n",
      "NC        2\n",
      "MI        1\n",
      "VT        1\n",
      "NM        1\n",
      "IN        1\n",
      "WA        1\n",
      "Name: State, dtype: int64\n"
     ]
    }
   ],
   "source": [
    "# Print the value_counts for 'State'\n",
    "print(df['State'].value_counts(dropna=False))"
   ]
  },
  {
   "cell_type": "code",
   "execution_count": 60,
   "metadata": {},
   "outputs": [
    {
     "name": "stdout",
     "output_type": "stream",
     "text": [
      "NOT APPLICABLE                              7806\n",
      "NaN                                         4205\n",
      "ON-SITE                                      519\n",
      "OFF-SITE                                     186\n",
      "USE UNDER 300 CU.YD                          130\n",
      "Name: Site Fill, dtype: int64\n"
     ]
    }
   ],
   "source": [
    "# Print the value counts for 'Site Fill'\n",
    "print(df['Site Fill'].value_counts(dropna = False))"
   ]
  },
  {
   "cell_type": "markdown",
   "metadata": {},
   "source": [
    "----\n",
    "<p style=\"text-align: justify;font-family:Lato;color:#808080;font-size:medium\">Notice how not all values in the <code>'State'</code> column are <code>NY</code>. This is an interesting find, as this data is supposed to consist of applications filed in NYC. Curiously, all the <code>'Borough'</code> values are correct. A good start as to why this may be the case would be to find and look at the codebook for this dataset. Also, for the <code>'Site Fill'</code> column, you may or may not need to recode the <code>NOT APPLICABLE</code> values to <code>NaN</code> in your final analysis.</p> "
   ]
  },
  {
   "cell_type": "markdown",
   "metadata": {},
   "source": [
    "### <span style=\" font-family:Lato;color:black\">Visualizing single variables with histograms</span>  \n",
    "\n",
    "<p style=\"text-align: justify;font-family:Lato;color:#808080;font-size:medium\">Up until now, you've been looking at descriptive statistics of your data. One of the best ways to confirm what the numbers are telling you is to plot and visualize the data.</p>\n",
    "\n",
    "<p style=\"text-align: justify;font-family:Lato;color:#808080;font-size:medium\">You'll start by visualizing single variables using a histogram for numeric values. The column you will work on in this exercise is <code>'Existing Zoning Sqft'</code>.</p>\n",
    "\n",
    "<p style=\"text-align: justify;font-family:Lato;color:#808080;font-size:medium\">The <code>.plot()</code> method allows you to create a plot of each column of a DataFrame. The kind parameter allows you to specify the type of plot to use - <code>kind='hist'</code>, for example, plots a histogram.</p>\n",
    "\n",
    "<p style=\"text-align: justify;font-family:Lato;color:#808080;font-size:medium\">In the IPython Shell, begin by computing summary statistics for the <code>'Existing Zoning Sqft'</code> column using the <code>.describe()</code> method. You'll notice that there are extremely large differences between the <code>min</code> and <code>max</code> values, and the plot will need to be adjusted accordingly. In such cases, it's good to look at the plot on a log scale. The keyword arguments <code>logx=True</code> or <code>logy=True</code> can be passed in to <code>.plot()</code> depending on which axis you want to rescale.</p>\n",
    "\n",
    "<p style=\"text-align: justify;font-family:Lato;color:#808080;font-size:medium\">Finally, note that Python will render a plot such that the axis will hold all the information. That is, if you end up with large amounts of whitespace in your plot, it indicates counts or values too small to render.</p>  "
   ]
  },
  {
   "cell_type": "markdown",
   "metadata": {},
   "source": [
    " <span style=\"position: absolute;\n",
    "      left:10; margin-top: 0px;\n",
    "      width: 20px; \n",
    "      height: 20px;\n",
    "      text-align: center;\n",
    "      border: 1px solid #0000;\n",
    "      background: #f8f8f8;\n",
    "      border-radius: 50%;\n",
    "      \">✔</span> <span style=\"\n",
    "      margin-left:30px;font-family:Lato;color:black;font-size:large\n",
    "      \">Instructions</span>\n",
    "\n",
    "- Import <code>matplotlib.pyplot</code> as <code>plt</code>.  \n",
    "\n",
    "\n",
    "- Create a histogram of the <code>'Existing Zoning Sqft'</code> column. Rotate the axis labels by 70 degrees and use a log scale for both axes.  \n",
    "\n",
    "\n",
    "- Display the histogram using <code>plt.show()</code>."
   ]
  },
  {
   "cell_type": "code",
   "execution_count": 61,
   "metadata": {},
   "outputs": [],
   "source": [
    "# Import matplotlib.pyplot\n",
    "import matplotlib.pyplot as plt"
   ]
  },
  {
   "cell_type": "code",
   "execution_count": 62,
   "metadata": {},
   "outputs": [
    {
     "name": "stdout",
     "output_type": "stream",
     "text": [
      "count    1.284600e+04\n",
      "mean     1.439973e+03\n",
      "std      3.860757e+04\n",
      "min      0.000000e+00\n",
      "25%      0.000000e+00\n",
      "50%      0.000000e+00\n",
      "75%      0.000000e+00\n",
      "max      2.873107e+06\n",
      "Name: Existing Zoning Sqft, dtype: float64\n"
     ]
    },
    {
     "data": {
      "image/png": "[encoded data removed]",
      "text/plain": [
       "<Figure size 432x288 with 1 Axes>"
      ]
     },
     "metadata": {
      "needs_background": "light"
     },
     "output_type": "display_data"
    }
   ],
   "source": [
    "# Describe the column\n",
    "print(df['Existing Zoning Sqft'].describe())\n",
    "\n",
    "# Plot the histogram\n",
    "df['Existing Zoning Sqft'].plot(kind='hist', rot=70, logx=True, logy=True)\n",
    "\n",
    "# Display the histogram\n",
    "plt.show()"
   ]
  },
  {
   "cell_type": "markdown",
   "metadata": {},
   "source": [
    "----\n",
    "<p style=\"text-align: justify;font-family:Lato;color:#808080;font-size:medium\">While visualizing your data is a great way to understand it, keep in mind that no one technique is better than another. As you saw here, you still needed to look at the summary statistics to help understand your data better. You expected a large amount of counts on the left side of the plot because the 25th, 50th, and 75th percentiles have a value of <code>0</code>. The plot shows us that there are barely any counts near the <code>max</code> value, signifying an outlier.</p> \n"
   ]
  },
  {
   "cell_type": "markdown",
   "metadata": {},
   "source": [
    "### <span style=\" font-family:Lato;color:black\">Visualizing multiple variables with boxplots</span>  \n",
    "\n",
    "<p style=\"text-align: justify;font-family:Lato;color:#808080;font-size:medium\">Histograms are great ways of visualizing single variables. To visualize multiple variables, boxplots are useful, especially when one of the variables is categorical.</p>\n",
    "\n",
    "<p style=\"text-align: justify;font-family:Lato;color:#808080;font-size:medium\">In this exercise, your job is to use a boxplot to compare the <code>'initial_cost'</code> across the different values of the <code>'Borough'</code> column. The pandas <code>.boxplot()</code> method is a quick way to do this, in which you have to specify the column and by parameters. Here, you want to visualize how <code>'initial_cost'</code> varies by <code>'Borough'</code>.</p>\n",
    "\n",
    "<p style=\"text-align: justify;font-family:Lato;color:#808080;font-size:medium\"><code>pandas</code> and <code>matplotlib.pyplot</code> have been imported for you as <code>pd</code> and <code>plt</code>, respectively, and the DataFrame has been pre-loaded as <code>df</code>.</p>"
   ]
  },
  {
   "cell_type": "code",
   "execution_count": 63,
   "metadata": {
    "scrolled": false
   },
   "outputs": [
    {
     "data": {
      "image/png": "[encoded data removed]",
      "text/plain": [
       "<Figure size 432x288 with 1 Axes>"
      ]
     },
     "metadata": {
      "needs_background": "light"
     },
     "output_type": "display_data"
    }
   ],
   "source": [
    "# stripping '$' sign\n",
    "df['initial_cost'] = [x.strip('$') for x in df['Initial Cost']]\n",
    "\n",
    "# string to float\n",
    "df['initial_cost'] = df['initial_cost'].astype('float')\n",
    "\n",
    "# Create the boxplot\n",
    "df.boxplot(column='initial_cost', by='Borough', rot=90)\n",
    "\n",
    "# Display the plot\n",
    "plt.show()\n"
   ]
  },
  {
   "cell_type": "markdown",
   "metadata": {},
   "source": [
    "----\n",
    "<p style=\"text-align: justify;font-family:Lato;color:#808080;font-size:medium\">You can see the 2 extreme outliers are in the borough of Manhattan. An initial guess could be that since land in Manhattan is extremely expensive, these outliers may be \n",
    "valid data points. Again, further investigation is needed to determine whether or not you can drop or keep those points in your data.</p> "
   ]
  },
  {
   "cell_type": "markdown",
   "metadata": {},
   "source": [
    "### <span style=\" font-family:Lato;color:black\">Visualizing multiple variables with scatter plots</span>  \n",
    "\n",
    "<p style=\"text-align: justify;font-family:Lato;color:#808080;font-size:medium\">Boxplots are great when you have a numeric column that you want to compare across different categories. When you want to visualize two numeric columns, scatter plots are ideal.</p>\n",
    "\n",
    "<p style=\"text-align: justify;font-family:Lato;color:#808080;font-size:medium\">In this exercise, your job is to make a scatter plot with <code>'initial_cost'</code> on the x-axis and the <code>'total_est_fee'</code> on the y-axis. You can do this by using the DataFrame <code>.plot()</code> method with <code>kind='scatter'</code>. You'll notice right away that there are 2 major outliers shown in the plots.</p>\n",
    "\n",
    "<p style=\"text-align: justify;font-family:Lato;color:#808080;font-size:medium\">Since these outliers dominate the plot, an additional DataFrame, <code>df_subset</code>, has been provided, in which some of the extreme values have been removed. After making a scatter plot using this, you'll find some interesting patterns here that would not have been seen by looking at summary statistics or 1 variable plots.</p>\n",
    "\n",
    "<p style=\"text-align: justify;font-family:Lato;color:#808080;font-size:medium\">When you're done, you can cycle between the two plots by clicking the 'Previous Plot' and 'Next Plot' buttons below the plot.</p>"
   ]
  },
  {
   "cell_type": "markdown",
   "metadata": {},
   "source": [
    " <span style=\"position: absolute;\n",
    "      left:10; margin-top: 0px;\n",
    "      width: 20px; \n",
    "      height: 20px;\n",
    "      text-align: center;\n",
    "      border: 1px solid #0000;\n",
    "      background: #f8f8f8;\n",
    "      border-radius: 50%;\n",
    "      \">✔</span> <span style=\"\n",
    "      margin-left:30px;font-family:Lato;color:black;font-size:large\n",
    "      \">Instructions</span> \n",
    "\n",
    "- Using <code>df</code>, create a scatter plot (<code>kind='scatter'</code>) with <code>'initial_cost'</code> on the x-axis and the <code>'total_est_fee'</code> on the y-axis. Rotate the x-axis labels by 70 degrees.\n",
    "- Create another scatter plot exactly as above, substituting <code>df_subset</code> in place of <code>df</code>."
   ]
  },
  {
   "cell_type": "code",
   "execution_count": 64,
   "metadata": {},
   "outputs": [],
   "source": [
    "# stripping '$' sign\n",
    "df['total_est_fee'] = [x.strip('$') for x in df['Total Est. Fee']]\n",
    "# string to float\n",
    "df['total_est_fee'] = df['total_est_fee'].astype('float')\n",
    "\n",
    "# read df_subset dataframe\n",
    "df_subset = pd.read_csv(r\"C:\\Users\\sankar.sasmal\\Desktop\\python\\Cleaning Data\\Cleaning Data in Python\\Data\\df_subset.csv\")"
   ]
  },
  {
   "cell_type": "code",
   "execution_count": 65,
   "metadata": {},
   "outputs": [
    {
     "data": {
      "image/png": "[encoded data removed]",
      "text/plain": [
       "<Figure size 432x288 with 1 Axes>"
      ]
     },
     "metadata": {
      "needs_background": "light"
     },
     "output_type": "display_data"
    },
    {
     "data": {
      "image/png": "[encoded data removed]",
      "text/plain": [
       "<Figure size 432x288 with 1 Axes>"
      ]
     },
     "metadata": {
      "needs_background": "light"
     },
     "output_type": "display_data"
    }
   ],
   "source": [
    "import numpy as np\n",
    "# Create and display the first scatter plot\n",
    "df.plot(kind='scatter', x='initial_cost', y='total_est_fee', rot=70)\n",
    "plt.title('df Plot')\n",
    "\n",
    "plt.show()\n",
    "\n",
    "# Create and display the second scatter plot\n",
    "df_subset.plot(kind='scatter', x= 'initial_cost', y='total_est_fee', rot=70)\n",
    "\n",
    "# axis range\n",
    "plt.axis([0, 13000, 0, 13000])\n",
    "plt.title('df_subplot Plot')\n",
    "\n",
    "plt.show()"
   ]
  },
  {
   "cell_type": "markdown",
   "metadata": {},
   "source": [
    "----\n",
    "<p style=\"text-align: justify;font-family:Lato;color:#808080;font-size:medium\">In general, from the second plot it seems like there is a strong correlation between <code>'initial_cost'</code> and <code>'total_est_fee'</code>. In addition, take note of the large number of points that have an <code>'initial_cost'</code> of 0. It is difficult to infer any trends from the first plot because it is dominated by the outliers.</p> "
   ]
  },
  {
   "cell_type": "markdown",
   "metadata": {},
   "source": [
    "<div class=\"alert alert-block alert-success\"; style =\"font-family:Lato;font-size:large;color:#085E5C\">\n",
    " <h2><span style=\"background: #33aacc;\n",
    "  border-radius: 0.8em;\n",
    "  -moz-border-radius: 0.8em;\n",
    "  -webkit-border-radius: 0.8em;\n",
    "  color: #ffffff;\n",
    "  display: inline-block;\n",
    "  font-weight: normal;\n",
    "  line-height: 1.6em;\n",
    "  margin-right: 15px;\n",
    "  margin-top: -15px;\n",
    "  text-align: center;\n",
    "  width: 1.6em; \">2</span>Tidying data for analysis</h2>\n",
    "<p style=\"text-align: justify;font-family:Lato;color:#808080;font-size:medium\">Learn about the principles of tidy data, and more importantly, why you should care about them and how they make data analysis more efficient. You'll gain first-hand experience with reshaping and tidying data using techniques such as pivoting and melting.</p>"
   ]
  },
  {
   "cell_type": "markdown",
   "metadata": {},
   "source": [
    "### <span style=\" font-family:Lato;color:black\">Recognizing tidy data</span>  \n",
    "<p style=\"text-align: justify;font-family:Lato;color:#808080;font-size:medium\"> For data to be tidy, it must have:</p>\n",
    "\n",
    "- Each column contains exactly one variable.\n",
    "- Each row contains exactly one observation.\n",
    "\n",
    "<p style=\"text-align: justify;font-family:Lato;color:#808080;font-size:medium\"> However, what constitutes a unique observation depends on your use case. As a data scientist, you'll encounter data that is represented in a variety of different ways, so it is important to be able understand and describe the structure of your data.</p>\n",
    "<p style=\"text-align: justify;font-family:Lato;color:#808080;font-size:medium\">In this exercise, two example datasets have been pre-loaded into the DataFrames <code>df1</code> and <code>df2</code>. They contain the same data, but structured in different ways. Your job is to explore these further in the IPython Shell and answer the question below.</p>\n",
    "<p style=\"text-align: justify;font-family:Lato;color:#808080;font-size:medium\"> A note before proceeding. In the rest of this course, you will frequently be asked to explore the structure of DataFrames in the IPython Shell prior to performing different operations on them. Doing this will not only strengthen your comprehension of the data cleaning concepts covered in this course, but will also help you realize and take advantage of the relationship between working in the Shell and in the script.</p>\n",
    "\n",
    "<p style=\"text-align: justify;font-family:Lato;color:#808080;font-size:medium\">Which of the following statements is true?</p>"
   ]
  },
  {
   "attachments": {
    "Annotation%202020-06-11%20112052.jpg": {
     "image/jpeg": "[encoded data removed]"
    }
   },
   "cell_type": "markdown",
   "metadata": {},
   "source": [
    "![Annotation%202020-06-11%20112052.jpg](attachment:Annotation%202020-06-11%20112052.jpg)"
   ]
  },
  {
   "cell_type": "markdown",
   "metadata": {},
   "source": [
    " <span style=\"position: absolute;\n",
    "      left:10; margin-top: 0px;\n",
    "      width: 20px; \n",
    "      height: 20px;\n",
    "      text-align: center;\n",
    "      border: 1px solid #0000;\n",
    "      background: #f8f8f8;\n",
    "      border-radius: 50%;\n",
    "      \">✔</span> <span style=\"\n",
    "      margin-left:30px;font-family:Lato;color:black;font-size:large\n",
    "      \">Instructions</span>"
   ]
  },
  {
   "cell_type": "markdown",
   "metadata": {},
   "source": [
    "<p style=\"text-align: justify;font-family:Lato;color:black;font-size:medium\">Answer</p>  \n",
    "\n",
    "<input type=\"radio\" > In <code>df1</code>, each row contains a single measurement from a sensor.  \n",
    "\n",
    "<input type=\"radio\" > In <code>df2</code>, each row contains a set of measurements from a single day. \n",
    "\n",
    "\n",
    "<input type=\"radio\" checked> In both datasets, Date identifies each observation."
   ]
  },
  {
   "cell_type": "markdown",
   "metadata": {},
   "source": [
    "----\n",
    "<p style=\"text-align: justify;font-family:Lato;color:#808080;font-size:medium\">Both formats are tidy for different reasons, one is focused on individual sensor measurements, and the other is focused on daily measurements. When you get data into a tidy format it's easier to tranform it to whatever suits your needs.</p> "
   ]
  },
  {
   "cell_type": "markdown",
   "metadata": {},
   "source": [
    "### <span style=\" font-family:Lato;color:black\">Reshaping your data using melt</span>  \n",
    "<p style=\"text-align: justify;font-family:Lato;color:#808080;font-size:medium\">Melting data is the process of turning columns of your data into rows of data. Consider the DataFrames from the previous exercise. In the tidy DataFrame, the variables <code>Ozone</code>, <code>Solar.R</code>, <code>Wind</code>, and <code>Temp</code> each had their own column. If, however, you wanted these variables to be in rows instead, you could melt the DataFrame. In doing so, however, you would make the data untidy! This is important to keep in mind: Depending on how your data is represented, you will have to reshape it differently (e.g., this could make it easier to plot values).</p>\n",
    "<p style=\"text-align: justify;font-family:Lato;color:#808080;font-size:medium\">In this exercise, you will practice melting a DataFrame using <code>pd.melt()</code>. There are two parameters you should be aware of: <code>id_vars</code> and <code>value_vars</code>. The <code>id_vars</code> represent the columns of the data you do not want to melt (i.e., keep it in its current shape), while the <code>value_vars</code> represent the columns you do wish to melt into rows. By default, if no <code>value_vars</code> are provided, all columns not set in the <code>id_vars</code> will be melted. This could save a bit of typing, depending on the number of columns that need to be melted.</p>\n",
    "<p style=\"text-align: justify;font-family:Lato;color:#808080;font-size:medium\">The (tidy) DataFrame <code>airquality</code> has been pre-loaded. Your job is to melt its <code>Ozone</code>, <code>Solar.R</code>, <code>Wind</code>, and <code>Temp</code> columns into rows. Later in this chapter, you'll learn how to bring this melted DataFrame back into a tidy form."
   ]
  },
  {
   "cell_type": "markdown",
   "metadata": {},
   "source": [
    "<span style=\"position: absolute;\n",
    "      left:10; margin-top: 0px;\n",
    "      width: 20px; \n",
    "      height: 20px;\n",
    "      text-align: center;\n",
    "      border: 1px solid #0000;\n",
    "      background: #f8f8f8;\n",
    "      border-radius: 50%;\n",
    "      \">✔</span> <span style=\"\n",
    "      margin-left:30px;font-family:Lato;color:black;font-size:large\n",
    "      \">Instructions</span>"
   ]
  },
  {
   "cell_type": "markdown",
   "metadata": {},
   "source": [
    "<ul>   \n",
    "<li type=\"disc\" style=\"color:#33aacc; font-size:20px;font-family:Lato\"><span style= \"font-size:medium;justify;font-family:Lato;color:#808080;margin-left:-5px\">Print the head of <code>airquality</code></span></li>\n",
    "    \n",
    "    \n",
    "\n",
    "<li type=\"disc\" style=\"color:#33aacc; font-size:20px;font-family:Lato\"><span style= \"font-size:medium;justify;font-family:Lato;color:#808080;margin-left:-5px\">Use <code>pd.melt()</code> to melt the <code>Ozone</code>, <code>Solar.R</code>, <code>Wind</code>, and <code>Temp</code> columns of <code>airquality</code> into rows. Do this by using <code>id_vars</code> to the column you do not wish to melt: <code>'Date'</code>.</span></li>\n",
    "    \n",
    "    \n",
    "\n",
    "<li type=\"disc\" style=\"color:#33aacc; font-size:20px;font-family:Lato\"><span style= \"font-size:medium;justify;font-family:Lato;color:#808080;margin-left:-5px\">Print the head of <code>airquality_melt</code>.</span></li>    \n",
    "</ul>"
   ]
  },
  {
   "cell_type": "code",
   "execution_count": null,
   "metadata": {},
   "outputs": [],
   "source": []
  }
 ],
 "metadata": {
  "kernelspec": {
   "display_name": "Python 3",
   "language": "python",
   "name": "python3"
  },
  "language_info": {
   "codemirror_mode": {
    "name": "ipython",
    "version": 3
   },
   "file_extension": ".py",
   "mimetype": "text/x-python",
   "name": "python",
   "nbconvert_exporter": "python",
   "pygments_lexer": "ipython3",
   "version": "3.7.6"
  }
 },
 "nbformat": 4,
 "nbformat_minor": 4
}
